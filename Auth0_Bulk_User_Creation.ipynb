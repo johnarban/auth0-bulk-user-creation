{
 "cells": [
  {
   "cell_type": "markdown",
   "id": "7ba78e59",
   "metadata": {},
   "source": [
    "# Bulk Create Users in Auth0\n",
    "\n",
    "This notebook uses the `Create import users job` on the Auth0 Management API to create multiple users in bulk for testing.\n",
    "\n",
    "## References:\n",
    "\n",
    "- [Bulk User Imports](https://auth0.com/docs/manage-users/user-migration/bulk-user-imports)\n",
    "- [Create User Import Job](https://auth0.com/docs/api/management/v2/jobs/post-users-imports)\n",
    "- [Bulk User Import JSON Schema](https://auth0.com/docs/manage-users/user-migration/bulk-user-import-database-schema-and-examples)\n"
   ]
  },
  {
   "cell_type": "code",
   "execution_count": null,
   "id": "c32fe279",
   "metadata": {},
   "outputs": [],
   "source": [
    "# Import necessary libraries for user creation and API interaction.\n",
    "import os\n",
    "import json\n",
    "import bcrypt  # auth0 default encryption\n",
    "import requests"
   ]
  },
  {
   "cell_type": "markdown",
   "id": "bde37259",
   "metadata": {},
   "source": [
    "## Password hashing function\n",
    "\n",
    "We will hash the password using Auth0's recommending hashing algorithm. [Read More](https://auth0.com/docs/manage-users/user-migration/bulk-user-import-database-schema-and-examples#custom-password-hash)\n",
    "\n",
    "You can submit one of the following (from the docs):\n",
    "\n",
    "> `password_hash` string: **Default _bcrypt_ hashed password** Hashed password for the user's connection.\n",
    "> When users are created, Auth0 uses bcrypt to secure the password.\n",
    "> Importing hashed passwords lets users keep their passwords for a smoother experience.\n",
    "> Compatible passwords should be hashed using bcrypt `$2a$` or `$2b$` and have 10 saltRounds.\n",
    "> This property can only be provided when the user is first imported and cannot be updated later.\n",
    ">\n",
    "> `custom_password_hash` object: A more generic way to provide the user's password hash.\n",
    "> This can be used instead of the password_hash field when the user's password hash was created with an alternate algorithm.\n",
    "> During the bulk import process, you can update the custom_password_hash if the user did not login using the initially imported custom_password_hash.\n",
    "\n",
    "Below shows how you would implement both of these hashing functions and import them.\n"
   ]
  },
  {
   "cell_type": "code",
   "execution_count": null,
   "id": "b98ec919",
   "metadata": {},
   "outputs": [],
   "source": [
    "# Hash a password using bcrypt with 10 salt rounds.\n",
    "def hash_password(password):\n",
    "    # Generate a salt\n",
    "    salt = bcrypt.gensalt(rounds=10)\n",
    "    # Hash the password with the salt\n",
    "    hashed_password = bcrypt.hashpw(password.encode(\"utf-8\"), salt)\n",
    "    return hashed_password.decode(\"utf-8\")\n",
    "\n",
    "\n",
    "# Create a user dictionary with hashed password and other details.\n",
    "def create_user(prefix=\"user\", domain=\"example.com\", password=None, i=1):\n",
    "    username = f\"{prefix}_{i:02d}\"\n",
    "    if password is None:\n",
    "        password = username\n",
    "    return {\n",
    "        \"email\": f\"{username}@{domain}\",\n",
    "        \"email_verified\": True,\n",
    "        \"password_hash\": hash_password(password),\n",
    "        \"name\": f\"{username}@{domain}\",\n",
    "        \"nickname\": username,  # optional\n",
    "        \"username\": username,\n",
    "    }\n",
    "\n",
    "\n",
    "# We will use the bcrypt hashing algorithm to hash the password.\n",
    "\n",
    "# Simple SHA-1 hash - just shown for reference\n",
    "# def sha1_password(password):\n",
    "#     # Hash the password using SHA-1\n",
    "#     sha1_hash = hashlib.sha1(password.encode('utf-8')).hexdigest()\n",
    "#     return sha1_hash\n",
    "\n",
    "# def create_user_with_sha1(prefix=\"user\", domain=\"example.com\", password=None, i=1):\n",
    "#     username = f\"{prefix}_{i:02d}\"\n",
    "#     if password is None:\n",
    "#         password = username\n",
    "#     return {\n",
    "#         \"email\": f\"{username}@{domain}\",\n",
    "#         \"email_verified\": True,\n",
    "#         # \"password_hash\": hash_password(password),\n",
    "#         \"custom_password_hash\": {\n",
    "#             \"algorithm\": \"sha1\",\n",
    "#             \"hash\": {\n",
    "#                 \"value\": sha1_password(password),\n",
    "#                 \"encoding\": \"hex\",\n",
    "#             }\n",
    "#         },\n",
    "#         \"name\": f\"{username}@{domain}\",\n",
    "#         \"nickname\": username,  # optional\n",
    "#         \"username\": username,\n",
    "#     }"
   ]
  },
  {
   "cell_type": "markdown",
   "id": "42d1a149",
   "metadata": {},
   "source": [
    "## User account generation\n",
    "\n",
    "Generate pre-defined list of users and writie it out to a JSON file. The JSON file will be used to import the users into Auth0. _this could likely be improved to use a file stream rather than writing a real file_\n"
   ]
  },
  {
   "cell_type": "code",
   "execution_count": null,
   "id": "ce0b9718",
   "metadata": {},
   "outputs": [],
   "source": [
    "# Create a list of users with the same prefix and domain.\n",
    "def create_users(prefix, domain=\"example.com\", N=5, password=None):\n",
    "    return [create_user(prefix, domain, password, i) for i in range(1, N + 1)]\n",
    "\n",
    "\n",
    "# Create a JSON file with user data for bulk import.\n",
    "def create_user_file(prefix, domain=\"example.com\", N=5, password=None, id=None):\n",
    "    \"\"\"\n",
    "    Generate a JSON file containing user data.\n",
    "    Pass a value to `id` to create a single user. Useful for testing.\n",
    "    Set the password, otherwise it will default to the username (i.e., prefix_01, ...).\n",
    "    \"\"\"\n",
    "    if id is None:\n",
    "        users = create_users(prefix, domain, N, password)\n",
    "    else:\n",
    "        users = [create_user(prefix, domain, password, id)]\n",
    "\n",
    "    filename = f\"{prefix}_users.json\"\n",
    "    with open(filename, \"w\") as f:\n",
    "        json.dump(users, f, indent=4)\n",
    "    print(f\"Created {filename} with {len(users)} users.\")\n",
    "    return filename"
   ]
  },
  {
   "cell_type": "code",
   "execution_count": null,
   "id": "fdf5fb1c",
   "metadata": {},
   "outputs": [],
   "source": [
    "# Retrieve the connection ID for a specific Auth0 connection.\n",
    "# API Reference: https://auth0.com/docs/api/management/v2/connections/get-connections\n",
    "def get_connection_id(\n",
    "    domain, access_token, connection_name=\"Username-Password-Authentication\"\n",
    "):\n",
    "    url = f\"https://{domain}/api/v2/connections\"\n",
    "    headers = {\"Authorization\": f\"Bearer {access_token}\"}\n",
    "    params = {\"strategy\": \"auth0\"}\n",
    "\n",
    "    response = requests.get(url, headers=headers, params=params)\n",
    "    connections = response.json()\n",
    "    return (\n",
    "        next(conn[\"id\"] for conn in connections if conn[\"name\"] == connection_name),\n",
    "        response.json(),\n",
    "    )"
   ]
  },
  {
   "cell_type": "code",
   "execution_count": null,
   "id": "ad5cb21c",
   "metadata": {},
   "outputs": [],
   "source": [
    "# Start a bulk user import job in Auth0.\n",
    "# API Reference: https://auth0.com/docs/api/management/v2/jobs/post-users-imports\n",
    "def start_import_job(filename, connection_id, domain, access_token, external_id=None):\n",
    "    url = f\"https://{domain}/api/v2/jobs/users-imports\"\n",
    "    headers = {\"Authorization\": f\"Bearer {access_token}\"}\n",
    "\n",
    "    with open(filename, \"rb\") as f:\n",
    "        files = {\n",
    "            \"users\": (filename, f, \"application/json\"),\n",
    "            \"connection_id\": (None, connection_id),\n",
    "            \"send_completion_email\": (None, \"false\"),\n",
    "        }\n",
    "\n",
    "        if external_id:\n",
    "            files[\"external_id\"] = (None, external_id)\n",
    "\n",
    "        response = requests.post(url, headers=headers, files=files)\n",
    "\n",
    "    if response.status_code == 200 or response.status_code == 202:\n",
    "        job = response.json()\n",
    "        print(\"Import job started successfully.\")\n",
    "        return job\n",
    "    else:\n",
    "        print(\"❌ Error during users-imports:\")\n",
    "        print(response.status_code, response.text)\n",
    "    return response"
   ]
  },
  {
   "cell_type": "code",
   "execution_count": null,
   "id": "9ec7126c",
   "metadata": {},
   "outputs": [],
   "source": [
    "# Check the status of a bulk user import job in Auth0.\n",
    "# API Reference: https://auth0.com/docs/api/management/v2/jobs/get-jobs-by-id\n",
    "def check_job_status(job, connection_id, domain, access_token, sleep=5):\n",
    "    url = f\"https://{domain}/api/v2/jobs/{job['id']}\"\n",
    "    headers = {\"Authorization\": f\"Bearer {access_token}\"}\n",
    "\n",
    "    pending = True\n",
    "    while pending:\n",
    "        response = requests.get(url, headers=headers)\n",
    "        if response.status_code == 200:\n",
    "            job_status = response.json()\n",
    "            pending = job_status[\"status\"] == \"pending\"\n",
    "            if pending:\n",
    "                print(\"Waiting for job to complete... (5 seconds)\")\n",
    "                time.sleep(5)\n",
    "        else:\n",
    "            print(\"❌ Error during job status check:\")\n",
    "            print(response.status_code, response.text)\n",
    "            return response\n",
    "\n",
    "    print(f\"Job id: {job_status['id']}\")\n",
    "    print(f\"Job status: {job_status['status']}\")\n",
    "    print(f\"Job summary: {job_status['summary']}\")\n",
    "    return job_status"
   ]
  },
  {
   "cell_type": "markdown",
   "id": "177fc21a",
   "metadata": {},
   "source": [
    "## Setup Auth0 Connection to the Management API\n",
    "\n",
    "[Management Api Access Tokens](https://auth0.com/docs/secure/tokens/access-tokens/management-api-access-tokens)\n",
    "\n",
    "Follow the instructions for **Testing** at the link above to get an access token.\n",
    "\n",
    "In short, for development purposes, you can use the token generated for the `API Explorer`.\n",
    "\n",
    "To find this, go to `Dashboard` > `Applications` > `APIs` > `API Explorer`. There you will see a very long token. Copy that, and past it into the `MGMT_API_ACCESS_TOKEN ` variable below. **NOTE**: This token expires in 24 hours, and has **FULL** access. DO NOT MAKE THIS TOKEN PUBLIC.\n"
   ]
  },
  {
   "cell_type": "code",
   "execution_count": null,
   "id": "a22e974d",
   "metadata": {},
   "outputs": [],
   "source": [
    "DOMAIN = \"\"  # usually something like dev-{{something long}}.us.auth0.com\n",
    "MGMT_API_ACCESS_TOKEN = \"\"  # usually something very long\n",
    "\n",
    "# Grab the connection to the database\n",
    "CONNECTION_ID, response = get_connection_id(\n",
    "    DOMAIN, MGMT_API_ACCESS_TOKEN, connection_name=\"Username-Password-Authentication\"\n",
    ")"
   ]
  },
  {
   "cell_type": "markdown",
   "id": "98daf49d",
   "metadata": {},
   "source": [
    "## Create Fake User List\n"
   ]
  },
  {
   "cell_type": "code",
   "execution_count": null,
   "id": "3514ed6c",
   "metadata": {},
   "outputs": [],
   "source": [
    "FILENAME = create_user_file(prefix=\"fakeU\", domain=\"test.edu\", N=1, id=1)\n",
    "\n",
    "# with open(FILENAME, 'r') as f:\n",
    "#     print(f.read())"
   ]
  },
  {
   "cell_type": "code",
   "execution_count": null,
   "id": "0f7dfe0b",
   "metadata": {},
   "outputs": [],
   "source": [
    "job = start_import_job(\n",
    "    filename=FILENAME,\n",
    "    connection_id=CONNECTION_ID,\n",
    "    domain=DOMAIN,\n",
    "    access_token=MGMT_API_ACCESS_TOKEN,\n",
    ")\n",
    "\n",
    "job_status = check_job_status(job, CONNECTION_ID, DOMAIN, MGMT_API_ACCESS_TOKEN)"
   ]
  }
 ],
 "metadata": {
  "kernelspec": {
   "display_name": "base",
   "language": "python",
   "name": "python3"
  },
  "language_info": {
   "codemirror_mode": {
    "name": "ipython",
    "version": 3
   },
   "file_extension": ".py",
   "mimetype": "text/x-python",
   "name": "python",
   "nbconvert_exporter": "python",
   "pygments_lexer": "ipython3",
   "version": "3.11.8"
  }
 },
 "nbformat": 4,
 "nbformat_minor": 5
}
